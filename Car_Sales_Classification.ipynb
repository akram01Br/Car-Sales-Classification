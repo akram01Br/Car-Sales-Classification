{
  "nbformat": 4,
  "nbformat_minor": 0,
  "metadata": {
    "colab": {
      "provenance": [],
      "gpuType": "T4"
    },
    "kernelspec": {
      "name": "python3",
      "display_name": "Python 3"
    },
    "language_info": {
      "name": "python"
    },
    "accelerator": "GPU"
  },
  "cells": [
    {
      "cell_type": "code",
      "execution_count": 7,
      "metadata": {
        "colab": {
          "base_uri": "https://localhost:8080/"
        },
        "id": "1MtUJipxMDp4",
        "outputId": "12a8007a-e7a8-428b-90e7-d61b99b98d94"
      },
      "outputs": [
        {
          "output_type": "stream",
          "name": "stdout",
          "text": [
            "      Model  Year         Region  Color Fuel_Type Transmission  Engine_Size_L  \\\n",
            "0  5 Series  2016           Asia    Red    Petrol       Manual            3.5   \n",
            "1        i8  2013  North America    Red    Hybrid    Automatic            1.6   \n",
            "2  5 Series  2022  North America   Blue    Petrol    Automatic            4.5   \n",
            "3        X3  2024    Middle East   Blue    Petrol    Automatic            1.7   \n",
            "4  7 Series  2020  South America  Black    Diesel       Manual            2.1   \n",
            "\n",
            "   Mileage_KM  Price_USD  Sales_Volume Sales_Classification  \n",
            "0      151748      98740          8300                 High  \n",
            "1      121671      79219          3428                  Low  \n",
            "2       10991     113265          6994                  Low  \n",
            "3       27255      60971          4047                  Low  \n",
            "4      122131      49898          3080                  Low  \n",
            "\n",
            "شكل البيانات: (50000, 11)\n",
            "\n",
            "ملخص الأعمدة:\n",
            "<class 'pandas.core.frame.DataFrame'>\n",
            "RangeIndex: 50000 entries, 0 to 49999\n",
            "Data columns (total 11 columns):\n",
            " #   Column                Non-Null Count  Dtype  \n",
            "---  ------                --------------  -----  \n",
            " 0   Model                 50000 non-null  object \n",
            " 1   Year                  50000 non-null  int64  \n",
            " 2   Region                50000 non-null  object \n",
            " 3   Color                 50000 non-null  object \n",
            " 4   Fuel_Type             50000 non-null  object \n",
            " 5   Transmission          50000 non-null  object \n",
            " 6   Engine_Size_L         50000 non-null  float64\n",
            " 7   Mileage_KM            50000 non-null  int64  \n",
            " 8   Price_USD             50000 non-null  int64  \n",
            " 9   Sales_Volume          50000 non-null  int64  \n",
            " 10  Sales_Classification  50000 non-null  object \n",
            "dtypes: float64(1), int64(4), object(6)\n",
            "memory usage: 4.2+ MB\n",
            "None\n",
            "\n",
            "القيم المفقودة:\n",
            "Model                   0\n",
            "Year                    0\n",
            "Region                  0\n",
            "Color                   0\n",
            "Fuel_Type               0\n",
            "Transmission            0\n",
            "Engine_Size_L           0\n",
            "Mileage_KM              0\n",
            "Price_USD               0\n",
            "Sales_Volume            0\n",
            "Sales_Classification    0\n",
            "dtype: int64\n",
            "\n",
            "الوصف الإحصائي:\n",
            "               Year  Engine_Size_L     Mileage_KM      Price_USD  Sales_Volume\n",
            "count  50000.000000   50000.000000   50000.000000   50000.000000  50000.000000\n",
            "mean    2017.015700       3.247180  100307.203140   75034.600900   5067.514680\n",
            "std        4.324459       1.009078   57941.509344   25998.248882   2856.767125\n",
            "min     2010.000000       1.500000       3.000000   30000.000000    100.000000\n",
            "25%     2013.000000       2.400000   50178.000000   52434.750000   2588.000000\n",
            "50%     2017.000000       3.200000  100388.500000   75011.500000   5087.000000\n",
            "75%     2021.000000       4.100000  150630.250000   97628.250000   7537.250000\n",
            "max     2024.000000       5.000000  199996.000000  119998.000000   9999.000000\n"
          ]
        }
      ],
      "source": [
        "import pandas as pd\n",
        "\n",
        "# قراءة البيانات\n",
        "df = pd.read_csv(\"BMW_Car_Sales_Classification.csv\")\n",
        "\n",
        "# نظرة عامة على البيانات\n",
        "print(df.head())\n",
        "print(\"\\nشكل البيانات:\", df.shape)\n",
        "print(\"\\nملخص الأعمدة:\")\n",
        "print(df.info())\n",
        "print(\"\\nالقيم المفقودة:\")\n",
        "print(df.isnull().sum())\n",
        "print(\"\\nالوصف الإحصائي:\")\n",
        "print(df.describe())\n"
      ]
    },
    {
      "cell_type": "markdown",
      "source": [
        "1. فصل الهدف (Target) عن الميزات (Features)"
      ],
      "metadata": {
        "id": "PjCjVsEnM7ru"
      }
    },
    {
      "cell_type": "code",
      "source": [
        "from sklearn.preprocessing import LabelEncoder\n",
        "from sklearn.model_selection import train_test_split\n",
        "\n",
        "# فصل المتغير المستهدف\n",
        "X = df.drop(\"Sales_Classification\", axis=1)\n",
        "y = df[\"Sales_Classification\"]\n",
        "\n",
        "# تحويل الهدف إلى أرقام (High=1, Low=0)\n",
        "le = LabelEncoder()\n",
        "y = le.fit_transform(y)\n"
      ],
      "metadata": {
        "id": "ZCXiNlxZMlW5"
      },
      "execution_count": 8,
      "outputs": []
    },
    {
      "cell_type": "markdown",
      "source": [
        "2. تحويل الأعمدة النصية إلى أرقام (OneHotEncoding)[link text](https://)\n",
        "\n",
        "> Add blockquote\n",
        "\n"
      ],
      "metadata": {
        "id": "E-4H3IsrNbga"
      }
    },
    {
      "cell_type": "code",
      "source": [
        "X = pd.get_dummies(X, drop_first=True)\n"
      ],
      "metadata": {
        "id": "HPnxwEA5NWsy"
      },
      "execution_count": 9,
      "outputs": []
    },
    {
      "cell_type": "markdown",
      "source": [
        "3. تقسيم البيانات (Train/Test)"
      ],
      "metadata": {
        "id": "MDexV2LgNgG0"
      }
    },
    {
      "cell_type": "code",
      "source": [
        "X_train, X_test, y_train, y_test = train_test_split(\n",
        "    X, y, test_size=0.2, random_state=42\n",
        ")\n"
      ],
      "metadata": {
        "id": "R89sIqOmNeW6"
      },
      "execution_count": 10,
      "outputs": []
    },
    {
      "cell_type": "code",
      "source": [
        "from sklearn.preprocessing import LabelEncoder\n",
        "\n",
        "le = LabelEncoder()\n",
        "y_encoded = le.fit_transform(df['Sales_Classification'])\n",
        "print(list(zip(df['Sales_Classification'][:10], y_encoded[:10])))\n"
      ],
      "metadata": {
        "colab": {
          "base_uri": "https://localhost:8080/"
        },
        "id": "xwG7Q_JhSFdu",
        "outputId": "e84e0249-5030-45cf-bd0b-cafdf551482b"
      },
      "execution_count": 11,
      "outputs": [
        {
          "output_type": "stream",
          "name": "stdout",
          "text": [
            "[('High', np.int64(0)), ('Low', np.int64(1)), ('Low', np.int64(1)), ('Low', np.int64(1)), ('Low', np.int64(1)), ('Low', np.int64(1)), ('High', np.int64(0)), ('Low', np.int64(1)), ('High', np.int64(0)), ('Low', np.int64(1))]\n"
          ]
        }
      ]
    },
    {
      "cell_type": "code",
      "source": [
        "from sklearn.preprocessing import LabelEncoder\n",
        "\n",
        "le = LabelEncoder()\n",
        "y_encoded = le.fit_transform(df['Sales_Classification'])\n",
        "\n",
        "# نوري كل فئة ورقمها\n",
        "for original, encoded in zip(df['Sales_Classification'][:10], y_encoded[:10]):\n",
        "    print(original, encoded)\n"
      ],
      "metadata": {
        "colab": {
          "base_uri": "https://localhost:8080/"
        },
        "id": "VF_aI2oQSaCA",
        "outputId": "24cd6f12-b36a-4032-deb0-79b035ae52f7"
      },
      "execution_count": 12,
      "outputs": [
        {
          "output_type": "stream",
          "name": "stdout",
          "text": [
            "High 0\n",
            "Low 1\n",
            "Low 1\n",
            "Low 1\n",
            "Low 1\n",
            "Low 1\n",
            "High 0\n",
            "Low 1\n",
            "High 0\n",
            "Low 1\n"
          ]
        }
      ]
    },
    {
      "cell_type": "code",
      "source": [
        "y_encoded = 1 - y_encoded\n"
      ],
      "metadata": {
        "id": "ghRI3p6WS1zd"
      },
      "execution_count": 13,
      "outputs": []
    },
    {
      "cell_type": "code",
      "source": [
        "y_encoded = df['Sales_Classification'].map({'Low': 0, 'High': 1})\n"
      ],
      "metadata": {
        "id": "EEX-J8efStDG"
      },
      "execution_count": 14,
      "outputs": []
    },
    {
      "cell_type": "code",
      "source": [
        "from sklearn.tree import DecisionTreeClassifier\n",
        "from sklearn.metrics import accuracy_score, classification_report\n",
        "\n",
        "dt = DecisionTreeClassifier(random_state=42)\n",
        "dt.fit(X_train, y_train)\n",
        "\n",
        "y_pred = dt.predict(X_test)\n",
        "\n",
        "print(\"Accuracy:\", accuracy_score(y_test, y_pred))\n",
        "print(classification_report(y_test, y_pred))\n"
      ],
      "metadata": {
        "colab": {
          "base_uri": "https://localhost:8080/"
        },
        "id": "aHb3oENGQGxo",
        "outputId": "7a6304d9-a972-46f3-f419-bf346de8869a"
      },
      "execution_count": 15,
      "outputs": [
        {
          "output_type": "stream",
          "name": "stdout",
          "text": [
            "Accuracy: 1.0\n",
            "              precision    recall  f1-score   support\n",
            "\n",
            "           0       1.00      1.00      1.00      3032\n",
            "           1       1.00      1.00      1.00      6968\n",
            "\n",
            "    accuracy                           1.00     10000\n",
            "   macro avg       1.00      1.00      1.00     10000\n",
            "weighted avg       1.00      1.00      1.00     10000\n",
            "\n"
          ]
        }
      ]
    },
    {
      "cell_type": "code",
      "source": [
        "# شجرة بحد أقصى للعمق\n",
        "dt_shallow = DecisionTreeClassifier(max_depth=5, random_state=42)\n",
        "dt_shallow.fit(X_train, y_train)\n",
        "\n",
        "# تقييم\n",
        "train_acc_shallow = dt_shallow.score(X_train, y_train)\n",
        "test_acc_shallow = dt_shallow.score(X_test, y_test)\n",
        "\n",
        "print(\"Train Accuracy (shallow):\", train_acc_shallow)\n",
        "print(\"Test Accuracy (shallow):\", test_acc_shallow)\n"
      ],
      "metadata": {
        "colab": {
          "base_uri": "https://localhost:8080/"
        },
        "id": "MrqfkMjVTUd0",
        "outputId": "59438605-8a6e-4d9c-bda6-15abffc6e328"
      },
      "execution_count": 16,
      "outputs": [
        {
          "output_type": "stream",
          "name": "stdout",
          "text": [
            "Train Accuracy (shallow): 1.0\n",
            "Test Accuracy (shallow): 1.0\n"
          ]
        }
      ]
    },
    {
      "cell_type": "code",
      "source": [
        "from sklearn.ensemble import RandomForestClassifier\n",
        "\n",
        "rf = RandomForestClassifier(n_estimators=100, max_depth=5, random_state=42)\n",
        "rf.fit(X_train, y_train)\n",
        "\n",
        "train_acc_rf = rf.score(X_train, y_train)\n",
        "test_acc_rf = rf.score(X_test, y_test)\n",
        "\n",
        "print(\"Random Forest Train Accuracy:\", train_acc_rf)\n",
        "print(\"Random Forest Test Accuracy:\", test_acc_rf)\n"
      ],
      "metadata": {
        "colab": {
          "base_uri": "https://localhost:8080/"
        },
        "id": "ZkwV8T9aTkar",
        "outputId": "8fc5237b-015b-4b56-b75c-9b5b33b83d43"
      },
      "execution_count": 18,
      "outputs": [
        {
          "output_type": "stream",
          "name": "stdout",
          "text": [
            "Random Forest Train Accuracy: 1.0\n",
            "Random Forest Test Accuracy: 1.0\n"
          ]
        }
      ]
    },
    {
      "cell_type": "code",
      "source": [
        "# مثال بيانات جديدة\n",
        "import pandas as pd\n",
        "\n",
        "new_data = pd.DataFrame({\n",
        "    'Model': ['X5', 'i3'],\n",
        "    'Year': [2025, 2023],\n",
        "    'Region': ['Europe', 'Asia'],\n",
        "    'Color': ['Green', 'White'],\n",
        "    'Fuel_Type': ['Electric', 'Hybrid'],\n",
        "    'Transmission': ['Automatic', 'Manual'],\n",
        "    'Engine_Size_L': [2.0, 1.5],\n",
        "    'Mileage_KM': [5000, 2000],\n",
        "    'Price_USD': [90000, 60000],\n",
        "    'Sales_Volume': [4000, 2500]\n",
        "})\n",
        "\n",
        "# لازم نفس خطوات تحويل النصوص إلى أرقام (OneHotEncoding)\n",
        "new_data_encoded = pd.get_dummies(new_data, drop_first=True)\n",
        "\n",
        "# ممكن تحتاج تضبط الأعمدة لتكون متطابقة مع X_train\n",
        "missing_cols = set(X_train.columns) - set(new_data_encoded.columns)\n",
        "for c in missing_cols:\n",
        "    new_data_encoded[c] = 0\n",
        "new_data_encoded = new_data_encoded[X_train.columns]\n",
        "\n",
        "# توقع\n",
        "y_new_pred = rf.predict(new_data_encoded)\n",
        "print(\"Predictions on new data:\", y_new_pred)\n"
      ],
      "metadata": {
        "colab": {
          "base_uri": "https://localhost:8080/"
        },
        "id": "__AKem7vUdQv",
        "outputId": "33288f5b-f2bb-45b2-8046-417d35f62756"
      },
      "execution_count": 19,
      "outputs": [
        {
          "output_type": "stream",
          "name": "stdout",
          "text": [
            "Predictions on new data: [1 1]\n"
          ]
        }
      ]
    }
  ]
}